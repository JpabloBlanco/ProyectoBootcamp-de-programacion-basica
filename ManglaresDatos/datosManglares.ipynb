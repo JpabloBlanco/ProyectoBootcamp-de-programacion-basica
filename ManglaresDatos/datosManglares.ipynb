{
 "cells": [
  {
   "cell_type": "code",
   "execution_count": 1,
   "id": "0053c19b-a080-4454-b710-8fe36d825ec5",
   "metadata": {},
   "outputs": [
    {
     "name": "stderr",
     "output_type": "stream",
     "text": [
      "C:\\Users\\talento\\AppData\\Local\\Temp\\ipykernel_22488\\221038820.py:4: UserWarning: \n",
      "The dash_core_components package is deprecated. Please replace\n",
      "`import dash_core_components as dcc` with `from dash import dcc`\n",
      "  import dash_core_components as dcc\n",
      "C:\\Users\\talento\\AppData\\Local\\Temp\\ipykernel_22488\\221038820.py:5: UserWarning: \n",
      "The dash_html_components package is deprecated. Please replace\n",
      "`import dash_html_components as html` with `from dash import html`\n",
      "  import dash_html_components as html\n"
     ]
    }
   ],
   "source": [
    "import pandas as pd\n",
    "import plotly.express as px\n",
    "import dash\n",
    "import dash_core_components as dcc\n",
    "import dash_html_components as html"
   ]
  },
  {
   "cell_type": "code",
   "execution_count": null,
   "id": "d265a41f-7ebf-435d-aafd-c976ae694ff1",
   "metadata": {},
   "outputs": [],
   "source": [
    "df=pd.read_csv(\"C:\\\\Users\\\\talento\\\\Downloads\\\\suy9-npu3.csv\")"
   ]
  },
  {
   "cell_type": "code",
   "execution_count": null,
   "id": "34aa19cb-febd-4a77-a143-179f1129c386",
   "metadata": {},
   "outputs": [],
   "source": [
    "df2=df[df[\"nombre_intervencion\"].str.contains(\"Manglares\")]\n",
    "figura1=px.pie(df2,values=\"monto_aporte_en_usd\",names=\"pais_del_actor\",title=\"Manglares\")\n",
    "figura1"
   ]
  },
  {
   "cell_type": "code",
   "execution_count": null,
   "id": "48662425-c3a6-461d-9d0a-2b598f0fc50a",
   "metadata": {},
   "outputs": [],
   "source": [
    "#Esta fuente de datos de lo que trata en torno a los manglares es de algunos proyectos para la conservación."
   ]
  },
  {
   "cell_type": "code",
   "execution_count": null,
   "id": "0cff0b3a-c141-4afe-9ace-35a9e3254230",
   "metadata": {},
   "outputs": [],
   "source": [
    "df_segunda=pd.read_csv(\"C:\\\\Users\\\\talento\\\\Downloads\\\\ProyectoBootcamp-de-programacion-basica-master\\\\Maquetación\\\\ManglaresDatos\\\\Registro_Nacional_de_Turismo_-_RNT_de_Cartagena.csv\")\n",
    "df_segunda"
   ]
  },
  {
   "cell_type": "code",
   "execution_count": null,
   "id": "4441e4ba-4ac9-4c8b-a58f-a24f59238f88",
   "metadata": {},
   "outputs": [],
   "source": [
    "df3=df_segunda[df_segunda[\"RAZON_SOCIAL_ESTABLECIMIENTO\"].str.contains(\"MANGLAR\")]\n",
    "df3\n",
    "#figura1=px.pie(df2,values=\"monto_aporte_en_usd\",names=\"pais_del_actor\",title=\"Manglares\")\n",
    "#figura1"
   ]
  },
  {
   "cell_type": "code",
   "execution_count": null,
   "id": "b06b381c-afa8-4474-9f04-332e4c2bc9b2",
   "metadata": {},
   "outputs": [],
   "source": [
    "#Este proyecto lo que tuvo que ver con los manglares es que hay algunos sitios que incluyen la palabra en sus nombres"
   ]
  },
  {
   "cell_type": "code",
   "execution_count": null,
   "id": "1d7d9425-0b13-4951-9955-c4da783bfa3b",
   "metadata": {},
   "outputs": [],
   "source": [
    "df_tercera=pd.read_csv(\"C:\\\\Users\\\\talento\\\\Downloads\\\\ProyectoBootcamp-de-programacion-basica-master\\\\Maquetación\\\\ManglaresDatos\\\\search-results.csv\")\n",
    "df_tercera"
   ]
  },
  {
   "cell_type": "code",
   "execution_count": null,
   "id": "bb9a290f-b107-40d3-b8ed-cb4d52ca378a",
   "metadata": {},
   "outputs": [],
   "source": [
    "df4=df_tercera[df_tercera[\"dc.title[spa]\"].str.contains(\"Manglar\")]\n",
    "df4"
   ]
  },
  {
   "cell_type": "code",
   "execution_count": null,
   "id": "8953d756-0693-464e-b342-a037b27c5597",
   "metadata": {},
   "outputs": [],
   "source": [
    "#Esta es de difícil manejo y manglar estaría solamente en una celda"
   ]
  },
  {
   "cell_type": "code",
   "execution_count": null,
   "id": "38ea4f83-ad70-4273-b4d8-7d825e32a509",
   "metadata": {},
   "outputs": [],
   "source": [
    "df_cuarta=pd.read_csv(\"C:\\\\Users\\\\talento\\\\Downloads\\\\ProyectoBootcamp-de-programacion-basica-master\\\\Maquetación\\\\ManglaresDatos\\\\Last_entries.csv\")\n",
    "df_cuarta"
   ]
  },
  {
   "cell_type": "code",
   "execution_count": null,
   "id": "554b0a03-5c2a-4efb-86b5-c8c228eb86fc",
   "metadata": {},
   "outputs": [],
   "source": [
    "df5=df_cuarta[df_cuarta[\"Description\"].str.contains(\"manglar\")]\n",
    "df5"
   ]
  },
  {
   "cell_type": "code",
   "execution_count": null,
   "id": "09f6c654-0df2-460c-b4a2-ecfd113d6742",
   "metadata": {},
   "outputs": [],
   "source": [
    "df5.at[35,\"Description\"]"
   ]
  },
  {
   "cell_type": "code",
   "execution_count": null,
   "id": "fda34750-8de8-4de3-97ff-7b737ae06fd0",
   "metadata": {},
   "outputs": [],
   "source": [
    "#Aquí se mencionó algo sobre manglares (mujeres que  recolectan un molusco en ese tipo de ecosistema)"
   ]
  },
  {
   "cell_type": "code",
   "execution_count": null,
   "id": "2c350ca1-92c8-4b9b-a5c0-27b791d5a66b",
   "metadata": {},
   "outputs": [],
   "source": [
    "df_quinta=pd.read_csv(\"C:\\\\Users\\\\talento\\\\Downloads\\\\ProyectoBootcamp-de-programacion-basica-master\\\\Maquetación\\\\ManglaresDatos\\\\terminology_for_iucn_usage_en_es_fr_16jan2025.csv\")\n",
    "df_quinta"
   ]
  },
  {
   "cell_type": "code",
   "execution_count": null,
   "id": "dcab7fde-5039-47e9-b38c-39a2819c5bd8",
   "metadata": {},
   "outputs": [],
   "source": [
    "df6=df_quinta[df_quinta[\"Español\"].str.contains(\"manglar\")]\n",
    "df6"
   ]
  },
  {
   "cell_type": "code",
   "execution_count": null,
   "id": "5239d0d1-955f-42ea-a845-8e7de0676c1b",
   "metadata": {},
   "outputs": [],
   "source": [
    "#Si el documento contienen muchas casillas con NaN no filtra.\n",
    "df_quinta.at[1549,\"Español\"]"
   ]
  },
  {
   "cell_type": "code",
   "execution_count": null,
   "id": "a30211ee-4b87-48f2-afe6-729025b27cea",
   "metadata": {},
   "outputs": [],
   "source": [
    "df_sexta=pd.read_csv(\"C:\\\\Users\\\\talento\\\\Downloads\\\\ProyectoBootcamp-de-programacion-basica-master\\\\Maquetación\\\\ManglaresDatos\\\\Contador_Arboles_Presidencia.csv\")\n",
    "df_sexta"
   ]
  },
  {
   "cell_type": "code",
   "execution_count": null,
   "id": "44a9f567-ace7-45ce-bf84-25652447bc0e",
   "metadata": {},
   "outputs": [],
   "source": [
    "df_sexta.info()"
   ]
  },
  {
   "cell_type": "code",
   "execution_count": null,
   "id": "ef7973ec-b687-46e5-b115-796bb4602f66",
   "metadata": {},
   "outputs": [],
   "source": [
    "df7=df_sexta[df_sexta[\"obsrv\"].str.contains(\"mangle\")]\n",
    "df7"
   ]
  },
  {
   "cell_type": "code",
   "execution_count": 7,
   "id": "8e532b38-6925-468f-959b-597bc8ce3a34",
   "metadata": {},
   "outputs": [
    {
     "ename": "ParserError",
     "evalue": "Error tokenizing data. C error: Expected 4 fields in line 7, saw 7\n",
     "output_type": "error",
     "traceback": [
      "\u001b[1;31m---------------------------------------------------------------------------\u001b[0m",
      "\u001b[1;31mParserError\u001b[0m                               Traceback (most recent call last)",
      "Cell \u001b[1;32mIn[7], line 2\u001b[0m\n\u001b[0;32m      1\u001b[0m \u001b[38;5;66;03m#df_septima=pd.read_excel(\"C:\\\\Datos\\\\regalias_2019.csv\",sheet_name=\"regalias_2019\")\u001b[39;00m\n\u001b[1;32m----> 2\u001b[0m df_septima\u001b[38;5;241m=\u001b[39mpd\u001b[38;5;241m.\u001b[39mread_csv(\u001b[38;5;124m\"\u001b[39m\u001b[38;5;124mC:\u001b[39m\u001b[38;5;130;01m\\\\\u001b[39;00m\u001b[38;5;124mDatos\u001b[39m\u001b[38;5;130;01m\\\\\u001b[39;00m\u001b[38;5;124mregalias_2019.csv\u001b[39m\u001b[38;5;124m\"\u001b[39m)\n\u001b[0;32m      3\u001b[0m df_septima\n",
      "File \u001b[1;32mC:\\ProgramData\\anaconda3\\Lib\\site-packages\\pandas\\io\\parsers\\readers.py:1026\u001b[0m, in \u001b[0;36mread_csv\u001b[1;34m(filepath_or_buffer, sep, delimiter, header, names, index_col, usecols, dtype, engine, converters, true_values, false_values, skipinitialspace, skiprows, skipfooter, nrows, na_values, keep_default_na, na_filter, verbose, skip_blank_lines, parse_dates, infer_datetime_format, keep_date_col, date_parser, date_format, dayfirst, cache_dates, iterator, chunksize, compression, thousands, decimal, lineterminator, quotechar, quoting, doublequote, escapechar, comment, encoding, encoding_errors, dialect, on_bad_lines, delim_whitespace, low_memory, memory_map, float_precision, storage_options, dtype_backend)\u001b[0m\n\u001b[0;32m   1013\u001b[0m kwds_defaults \u001b[38;5;241m=\u001b[39m _refine_defaults_read(\n\u001b[0;32m   1014\u001b[0m     dialect,\n\u001b[0;32m   1015\u001b[0m     delimiter,\n\u001b[1;32m   (...)\u001b[0m\n\u001b[0;32m   1022\u001b[0m     dtype_backend\u001b[38;5;241m=\u001b[39mdtype_backend,\n\u001b[0;32m   1023\u001b[0m )\n\u001b[0;32m   1024\u001b[0m kwds\u001b[38;5;241m.\u001b[39mupdate(kwds_defaults)\n\u001b[1;32m-> 1026\u001b[0m \u001b[38;5;28;01mreturn\u001b[39;00m _read(filepath_or_buffer, kwds)\n",
      "File \u001b[1;32mC:\\ProgramData\\anaconda3\\Lib\\site-packages\\pandas\\io\\parsers\\readers.py:626\u001b[0m, in \u001b[0;36m_read\u001b[1;34m(filepath_or_buffer, kwds)\u001b[0m\n\u001b[0;32m    623\u001b[0m     \u001b[38;5;28;01mreturn\u001b[39;00m parser\n\u001b[0;32m    625\u001b[0m \u001b[38;5;28;01mwith\u001b[39;00m parser:\n\u001b[1;32m--> 626\u001b[0m     \u001b[38;5;28;01mreturn\u001b[39;00m parser\u001b[38;5;241m.\u001b[39mread(nrows)\n",
      "File \u001b[1;32mC:\\ProgramData\\anaconda3\\Lib\\site-packages\\pandas\\io\\parsers\\readers.py:1923\u001b[0m, in \u001b[0;36mTextFileReader.read\u001b[1;34m(self, nrows)\u001b[0m\n\u001b[0;32m   1916\u001b[0m nrows \u001b[38;5;241m=\u001b[39m validate_integer(\u001b[38;5;124m\"\u001b[39m\u001b[38;5;124mnrows\u001b[39m\u001b[38;5;124m\"\u001b[39m, nrows)\n\u001b[0;32m   1917\u001b[0m \u001b[38;5;28;01mtry\u001b[39;00m:\n\u001b[0;32m   1918\u001b[0m     \u001b[38;5;66;03m# error: \"ParserBase\" has no attribute \"read\"\u001b[39;00m\n\u001b[0;32m   1919\u001b[0m     (\n\u001b[0;32m   1920\u001b[0m         index,\n\u001b[0;32m   1921\u001b[0m         columns,\n\u001b[0;32m   1922\u001b[0m         col_dict,\n\u001b[1;32m-> 1923\u001b[0m     ) \u001b[38;5;241m=\u001b[39m \u001b[38;5;28mself\u001b[39m\u001b[38;5;241m.\u001b[39m_engine\u001b[38;5;241m.\u001b[39mread(  \u001b[38;5;66;03m# type: ignore[attr-defined]\u001b[39;00m\n\u001b[0;32m   1924\u001b[0m         nrows\n\u001b[0;32m   1925\u001b[0m     )\n\u001b[0;32m   1926\u001b[0m \u001b[38;5;28;01mexcept\u001b[39;00m \u001b[38;5;167;01mException\u001b[39;00m:\n\u001b[0;32m   1927\u001b[0m     \u001b[38;5;28mself\u001b[39m\u001b[38;5;241m.\u001b[39mclose()\n",
      "File \u001b[1;32mC:\\ProgramData\\anaconda3\\Lib\\site-packages\\pandas\\io\\parsers\\c_parser_wrapper.py:234\u001b[0m, in \u001b[0;36mCParserWrapper.read\u001b[1;34m(self, nrows)\u001b[0m\n\u001b[0;32m    232\u001b[0m \u001b[38;5;28;01mtry\u001b[39;00m:\n\u001b[0;32m    233\u001b[0m     \u001b[38;5;28;01mif\u001b[39;00m \u001b[38;5;28mself\u001b[39m\u001b[38;5;241m.\u001b[39mlow_memory:\n\u001b[1;32m--> 234\u001b[0m         chunks \u001b[38;5;241m=\u001b[39m \u001b[38;5;28mself\u001b[39m\u001b[38;5;241m.\u001b[39m_reader\u001b[38;5;241m.\u001b[39mread_low_memory(nrows)\n\u001b[0;32m    235\u001b[0m         \u001b[38;5;66;03m# destructive to chunks\u001b[39;00m\n\u001b[0;32m    236\u001b[0m         data \u001b[38;5;241m=\u001b[39m _concatenate_chunks(chunks)\n",
      "File \u001b[1;32mparsers.pyx:838\u001b[0m, in \u001b[0;36mpandas._libs.parsers.TextReader.read_low_memory\u001b[1;34m()\u001b[0m\n",
      "File \u001b[1;32mparsers.pyx:905\u001b[0m, in \u001b[0;36mpandas._libs.parsers.TextReader._read_rows\u001b[1;34m()\u001b[0m\n",
      "File \u001b[1;32mparsers.pyx:874\u001b[0m, in \u001b[0;36mpandas._libs.parsers.TextReader._tokenize_rows\u001b[1;34m()\u001b[0m\n",
      "File \u001b[1;32mparsers.pyx:891\u001b[0m, in \u001b[0;36mpandas._libs.parsers.TextReader._check_tokenize_status\u001b[1;34m()\u001b[0m\n",
      "File \u001b[1;32mparsers.pyx:2061\u001b[0m, in \u001b[0;36mpandas._libs.parsers.raise_parser_error\u001b[1;34m()\u001b[0m\n",
      "\u001b[1;31mParserError\u001b[0m: Error tokenizing data. C error: Expected 4 fields in line 7, saw 7\n"
     ]
    }
   ],
   "source": [
    "#df_septima=pd.read_excel(\"C:\\\\Datos\\\\regalias_2019.csv\",sheet_name=\"regalias_2019\")\n",
    "df_septima=pd.read_csv(\"C:\\\\Datos\\\\regalias_2019.csv\")\n",
    "df_septima"
   ]
  },
  {
   "cell_type": "code",
   "execution_count": null,
   "id": "dc73a824-dbcf-4b24-9820-addd8e5e823b",
   "metadata": {},
   "outputs": [],
   "source": []
  }
 ],
 "metadata": {
  "kernelspec": {
   "display_name": "Python 3 (ipykernel)",
   "language": "python",
   "name": "python3"
  },
  "language_info": {
   "codemirror_mode": {
    "name": "ipython",
    "version": 3
   },
   "file_extension": ".py",
   "mimetype": "text/x-python",
   "name": "python",
   "nbconvert_exporter": "python",
   "pygments_lexer": "ipython3",
   "version": "3.12.7"
  }
 },
 "nbformat": 4,
 "nbformat_minor": 5
}
